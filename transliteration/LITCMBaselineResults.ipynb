{
 "cells": [
  {
   "cell_type": "code",
   "execution_count": 1,
   "metadata": {},
   "outputs": [
    {
     "name": "stdout",
     "output_type": "stream",
     "text": [
      "Populating the interactive namespace from numpy and matplotlib\n"
     ]
    }
   ],
   "source": [
    "%matplotlib inline\n",
    "%pylab inline\n",
    "\n",
    "import editdistance"
   ]
  },
  {
   "cell_type": "markdown",
   "metadata": {},
   "source": [
    "# File Encoding"
   ]
  },
  {
   "cell_type": "code",
   "execution_count": 2,
   "metadata": {},
   "outputs": [],
   "source": [
    "devanagariChars   = [u'\\u0900', u'\\u0901', u'\\u0902', u'\\u0903', u'\\u0904', u'\\u0905', u'\\u0906', u'\\u0907', u'\\u0908', u'\\u0909', u'\\u090a', u'\\u090b', u'\\u090c', u'\\u090d', u'\\u090e', u'\\u090f', u'\\u0910', u'\\u0911', u'\\u0912', u'\\u0913', u'\\u0914', u'\\u0915', u'\\u0916', u'\\u0917', u'\\u0918', u'\\u0919', u'\\u091a', u'\\u091b', u'\\u091c', u'\\u091d', u'\\u091e', u'\\u091f', u'\\u0920', u'\\u0921', u'\\u0922', u'\\u0923', u'\\u0924', u'\\u0925', u'\\u0926', u'\\u0927', u'\\u0928', u'\\u0929', u'\\u092a', u'\\u092b', u'\\u092c', u'\\u092d', u'\\u092e', u'\\u092f', u'\\u0930', u'\\u0931', u'\\u0932', u'\\u0933', u'\\u0934', u'\\u0935', u'\\u0936', u'\\u0937', u'\\u0938', u'\\u0939', u'\\u093a', u'\\u093b', u'\\u093c', u'\\u093d', u'\\u093e', u'\\u093f', u'\\u0940', u'\\u0941', u'\\u0942', u'\\u0943', u'\\u0944', u'\\u0945', u'\\u0946', u'\\u0947', u'\\u0948', u'\\u0949', u'\\u094a', u'\\u094b', u'\\u094c', u'\\u094d', u'\\u094e', u'\\u094f', u'\\u0950', u'\\u0951', u'\\u0952', u'\\u0953', u'\\u0954', u'\\u0955', u'\\u0956', u'\\u0957', u'\\u0958', u'\\u0959', u'\\u095a', u'\\u095b', u'\\u095c', u'\\u095d', u'\\u095e', u'\\u095f', u'\\u0960', u'\\u0961', u'\\u0962', u'\\u0963', u'\\u0964', u'\\u0965', u'\\u0966', u'\\u0967', u'\\u0968', u'\\u0969', u'\\u096a', u'\\u096b', u'\\u096c', u'\\u096d', u'\\u096e', u'\\u096f', u'\\u0970', u'\\u0971', u'\\u0972', u'\\u0973', u'\\u0974', u'\\u0975', u'\\u0976', u'\\u0977', u'\\u0978', u'\\u0979', u'\\u097a', u'\\u097b', u'\\u097c', u'\\u097d', u'\\u097e', u'\\u097f']\n",
    "englishCharacters = [u'a', u'b', u'c', u'd', u'e', u'f', u'g', u'h', u'i', u'j', u'k', u'l', u'm', u'n', u'o', u'p', u'q', u'r', u's', u't', u'u', u'v', u'w', u'x', u'y', u'z']"
   ]
  },
  {
   "cell_type": "markdown",
   "metadata": {},
   "source": [
    "# LITCM [FIRE 2014] baseline https://github.com/irshadbhat/litcm"
   ]
  },
  {
   "cell_type": "code",
   "execution_count": 3,
   "metadata": {},
   "outputs": [],
   "source": [
    "from litcm import LIT\n",
    "lit = LIT(labels=['hin', 'eng'], transliteration=True)"
   ]
  },
  {
   "cell_type": "markdown",
   "metadata": {},
   "source": [
    "# How to trainsliterate a token"
   ]
  },
  {
   "cell_type": "code",
   "execution_count": 4,
   "metadata": {},
   "outputs": [
    {
     "name": "stdout",
     "output_type": "stream",
     "text": [
      "test टेस्ट\n"
     ]
    }
   ],
   "source": [
    "token = 'test'\n",
    "\n",
    "lit.idfsen = str() \n",
    "lit.transliterate(token, 'hin')\n",
    "print token, lit.idfsen.split('=')[-1][:-1]"
   ]
  },
  {
   "cell_type": "markdown",
   "metadata": {
    "collapsed": true
   },
   "source": [
    "# CER on different folds"
   ]
  },
  {
   "cell_type": "code",
   "execution_count": 6,
   "metadata": {},
   "outputs": [
    {
     "name": "stdout",
     "output_type": "stream",
     "text": [
      "Fold : 0 Train data CER: 18.8977682789 Test data CER: 18.8640434009\n",
      "Fold : 1 Train data CER: 18.8083241803 Test data CER: 19.2218629895\n",
      "Fold : 2 Train data CER: 18.8847477157 Test data CER: 18.9161319418\n",
      "Fold : 3 Train data CER: 18.8478194843 Test data CER: 19.0638627006\n",
      "Fold : 4 Train data CER: 19.0192094677 Test data CER: 18.3782199999\n",
      "Test  data CER 5-fold : 18.8888242065\n",
      "Train data CER 5-fold : 18.8915738254\n"
     ]
    }
   ],
   "source": [
    "trainCERs = []\n",
    "testCERs  = []\n",
    "\n",
    "for fold in range(5):\n",
    "    \n",
    "    # File for current fold\n",
    "    \n",
    "    testSourceFile = 'folds/testMixed' + str(fold) + '.source.txt'\n",
    "    trainSourceFile = 'folds/trainMixed' + str(fold) + '.source.txt'\n",
    "    testTargetFile = 'folds/testMixed' + str(fold) + '.target.txt'\n",
    "    trainTargetFile = 'folds/trainMixed' + str(fold) + '.target.txt'\n",
    "    \n",
    "    # Read training split for current fold\n",
    "    with open(trainSourceFile, 'r') as fp:\n",
    "        trainSource = fp.readlines()\n",
    "\n",
    "    for i in range(len(trainSource)):\n",
    "        trainSource[i] = trainSource[i].strip('\\n')\n",
    "        string = ''\n",
    "        for ch in trainSource[i].split(' '):\n",
    "            if ch != '':\n",
    "                string += englishCharacters[int(ch)]\n",
    "        trainSource[i] = string\n",
    "\n",
    "    with open(testSourceFile, 'r') as fp:\n",
    "        testSource = fp.readlines()\n",
    "\n",
    "    for i in range(len(testSource)):\n",
    "        testSource[i] = testSource[i].strip('\\n')\n",
    "        string = ''\n",
    "        for ch in testSource[i].split(' '):\n",
    "            if ch != '':\n",
    "                string += englishCharacters[int(ch)]\n",
    "        testSource[i] = string\n",
    "\n",
    "    # Read testing split for current fold\n",
    "\n",
    "    with open(trainTargetFile, 'r') as fp:\n",
    "        trainTarget = fp.readlines()\n",
    "\n",
    "    for i in range(len(trainTarget)):\n",
    "        trainTarget[i] = trainTarget[i].strip('\\n')\n",
    "        string = ''\n",
    "        for ch in trainTarget[i].split(' '):\n",
    "            if ch != '':\n",
    "                string += devanagariChars[int(ch)]\n",
    "        trainTarget[i] = string\n",
    "\n",
    "    with open(testTargetFile, 'r') as fp:\n",
    "        testTarget = fp.readlines()\n",
    "\n",
    "    for i in range(len(testTarget)):\n",
    "        testTarget[i] = testTarget[i].strip('\\n')\n",
    "        string = ''\n",
    "        for ch in testTarget[i].split(' '):\n",
    "            if ch != '':\n",
    "                string += devanagariChars[int(ch)]\n",
    "        testTarget[i] = string\n",
    "    \n",
    "    # Transliterate using LITCM\n",
    "    \n",
    "    trainPredicted = []\n",
    "    testPredicted  = []\n",
    "\n",
    "    for token in trainSource:\n",
    "        lit.idfsen = str() \n",
    "        lit.transliterate(token.encode('ascii'), 'hin')\n",
    "        trainPredicted.append(lit.idfsen.split('=')[-1][:-1].decode('utf-8'))\n",
    "\n",
    "\n",
    "    for token in testSource:\n",
    "        lit.idfsen = str() \n",
    "        lit.transliterate(token.encode('ascii'), 'hin')\n",
    "        testPredicted.append(lit.idfsen.split('=')[-1][:-1].decode('utf-8'))\n",
    "        \n",
    "    trainCER = 0.\n",
    "    for i in range(len(trainPredicted)):\n",
    "        trainCER += (float(editdistance.eval(trainTarget[i], trainPredicted[i])) / len(trainTarget[i]))\n",
    "    trainCER /= len(trainTarget)\n",
    "    trainCER *= 100\n",
    "    \n",
    "    trainCERs.append(trainCER)\n",
    "    \n",
    "    testCER = 0.\n",
    "    for i in range(len(testPredicted)):\n",
    "        testCER += (float(editdistance.eval(testTarget[i], testPredicted[i])) / len(testTarget[i]))\n",
    "    testCER /= len(testTarget)\n",
    "    testCER *= 100\n",
    "    \n",
    "    testCERs.append(testCER)\n",
    "\n",
    "    print 'Fold :', fold, 'Train data CER:', trainCER, 'Test data CER:', testCER\n",
    "    \n",
    "print 'Test  data CER 5-fold :', sum(testCERs) / 5.\n",
    "print 'Train data CER 5-fold :', sum(trainCERs) / 5."
   ]
  },
  {
   "cell_type": "code",
   "execution_count": null,
   "metadata": {
    "collapsed": true
   },
   "outputs": [],
   "source": []
  }
 ],
 "metadata": {
  "kernelspec": {
   "display_name": "Python 2",
   "language": "python",
   "name": "python2"
  },
  "language_info": {
   "codemirror_mode": {
    "name": "ipython",
    "version": 2
   },
   "file_extension": ".py",
   "mimetype": "text/x-python",
   "name": "python",
   "nbconvert_exporter": "python",
   "pygments_lexer": "ipython2",
   "version": "2.7.12"
  }
 },
 "nbformat": 4,
 "nbformat_minor": 2
}
